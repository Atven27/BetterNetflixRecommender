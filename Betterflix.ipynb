{
 "cells": [
  {
   "cell_type": "code",
   "execution_count": 67,
   "metadata": {},
   "outputs": [
    {
     "name": "stdout",
     "output_type": "stream",
     "text": [
      "Please enter a Netflix title\n",
      "insidious\n",
      "Optional Filter - You can enter a genre. Press enter to skip\n",
      "\n",
      "Optional Filter - You can enter a cast member name. This should be one word. Press enter to skip\n",
      "wilson\n"
     ]
    }
   ],
   "source": [
    "# User input section\n",
    "\n",
    "print(\"Please enter a Netflix title\")\n",
    "input_title = input()\n",
    "print(\"Optional Filter - You can enter a genre. Press enter to skip\")\n",
    "input_genre = input()\n",
    "print(\"Optional Filter - You can enter a cast member name. This should be one word. Press enter to skip\")\n",
    "input_cast = input()\n",
    "# print(\"Optional - If you would like to see a dataframe containing details of your recommended titles type anything. Press enter to skip\")\n",
    "# show_recommended_df = input()"
   ]
  },
  {
   "cell_type": "code",
   "execution_count": 39,
   "metadata": {},
   "outputs": [],
   "source": [
    "import pandas as pd\n",
    "import numpy as np\n",
    "import os\n",
    "import ast\n",
    "import re\n",
    "\n",
    "\n",
    "prep_df = pd.read_csv(\"prep_movie_list.csv\", sep=',', encoding='latin-1')"
   ]
  },
  {
   "cell_type": "code",
   "execution_count": 41,
   "metadata": {},
   "outputs": [],
   "source": [
    "from sklearn.feature_extraction.text import CountVectorizer\n",
    "from sklearn.metrics.pairwise import cosine_similarity\n",
    "\n",
    "CV= CountVectorizer(max_features=5000, stop_words=\"english\")\n",
    "vector=CV.fit_transform(prep_df['listtags']).toarray()\n",
    "\n",
    "similarity=cosine_similarity(vector)\n",
    "\n",
    "     \n"
   ]
  },
  {
   "cell_type": "code",
   "execution_count": 42,
   "metadata": {},
   "outputs": [],
   "source": [
    "#Recommender function\n",
    "reco_list = []\n",
    "def Recommend_Movies(movie):\n",
    "    global reco_list\n",
    "    try:\n",
    "        movie_index=prep_df[prep_df['title']==movie].index[0]\n",
    "        distance=similarity[movie_index]\n",
    "        movies_list=sorted(list(enumerate(distance)), reverse=True, key=lambda x : x[1])[1:11]\n",
    "        \n",
    "        if len(movies_list) > 0:\n",
    "            for i in movies_list:\n",
    "                \n",
    "                t=prep_df.iloc[i[0]].title\n",
    "                if t == movie or t in reco_list:\n",
    "                    pass\n",
    "                    \n",
    "                else:\n",
    "                    reco_list.append(t)\n",
    "                   \n",
    "        else:\n",
    "            print('Movie '+ movie +' does not have any matching recommendation. Please try another one.')\n",
    "    except:\n",
    "        print('Movie '+ movie +' not present in Netflix. Please try another one.')\n"
   ]
  },
  {
   "cell_type": "code",
   "execution_count": 68,
   "metadata": {},
   "outputs": [
    {
     "name": "stdout",
     "output_type": "stream",
     "text": [
      "Here are your recommended titles based on your search criteria\n",
      "\n",
      "1. The Conjuring\n",
      "Paranormal investigators Ed and Lorraine Warren work to help a family terrorized by a dark presence in their farmhouse Forced to confront a powerful entity the Warrens find themselves caught in the most terrifying case of their lives\n",
      "\n",
      "\n"
     ]
    },
    {
     "data": {
      "text/html": [
       "<div>\n",
       "<style scoped>\n",
       "    .dataframe tbody tr th:only-of-type {\n",
       "        vertical-align: middle;\n",
       "    }\n",
       "\n",
       "    .dataframe tbody tr th {\n",
       "        vertical-align: top;\n",
       "    }\n",
       "\n",
       "    .dataframe thead th {\n",
       "        text-align: right;\n",
       "    }\n",
       "</style>\n",
       "<table border=\"1\" class=\"dataframe\">\n",
       "  <thead>\n",
       "    <tr style=\"text-align: right;\">\n",
       "      <th></th>\n",
       "      <th>title</th>\n",
       "      <th>cast</th>\n",
       "      <th>director</th>\n",
       "      <th>imdb_votes</th>\n",
       "      <th>keywords</th>\n",
       "      <th>genre</th>\n",
       "      <th>imdb_score</th>\n",
       "      <th>popularity_score</th>\n",
       "      <th>description</th>\n",
       "      <th>tags</th>\n",
       "      <th>composite_score</th>\n",
       "    </tr>\n",
       "  </thead>\n",
       "  <tbody>\n",
       "    <tr>\n",
       "      <th>4</th>\n",
       "      <td>THE CONJURING</td>\n",
       "      <td>['Vera', 'Farmiga,', 'Patrick', 'Wilson,', 'Li...</td>\n",
       "      <td>James Wan</td>\n",
       "      <td>491048.0</td>\n",
       "      <td>['psychic vision demonology demonic ghost cruc...</td>\n",
       "      <td>['', 'thriller', 'horror', 'thriller', 'horror...</td>\n",
       "      <td>7.5</td>\n",
       "      <td>171.68</td>\n",
       "      <td>['When', 'a', 'family', 'starts', 'experiencin...</td>\n",
       "      <td>[['', 'thriller', 'horror', 'thriller', 'horro...</td>\n",
       "      <td>73.172</td>\n",
       "    </tr>\n",
       "  </tbody>\n",
       "</table>\n",
       "</div>"
      ],
      "text/plain": [
       "           title                                               cast  \\\n",
       "4  THE CONJURING  ['Vera', 'Farmiga,', 'Patrick', 'Wilson,', 'Li...   \n",
       "\n",
       "    director  imdb_votes                                           keywords  \\\n",
       "4  James Wan    491048.0  ['psychic vision demonology demonic ghost cruc...   \n",
       "\n",
       "                                               genre  imdb_score  \\\n",
       "4  ['', 'thriller', 'horror', 'thriller', 'horror...         7.5   \n",
       "\n",
       "   popularity_score                                        description  \\\n",
       "4            171.68  ['When', 'a', 'family', 'starts', 'experiencin...   \n",
       "\n",
       "                                                tags  composite_score  \n",
       "4  [['', 'thriller', 'horror', 'thriller', 'horro...           73.172  "
      ]
     },
     "execution_count": 68,
     "metadata": {},
     "output_type": "execute_result"
    }
   ],
   "source": [
    "# Output Cell\n",
    "\n",
    "\n",
    "'''\n",
    "parameter 1:\n",
    "    more than one word: movie title\n",
    "'|' is the delimiter\n",
    "parameter 2:\n",
    "    single word: one genre of the movie\n",
    "'|' is the delimiter\n",
    "parameter 3:\n",
    "    count of records to show > default 10\n",
    "'''\n",
    "errorKey = 0\n",
    "inp_param = f\"{input_title.upper()}|{input_genre.lower()}|{input_cast.title()}\"\n",
    "param1 = str(inp_param.split('|',1)[0])\n",
    "param2 = inp_param.split('|',1)[1].split('|',1)[0]\n",
    "param3 = inp_param.rsplit('|',1)[1]\n",
    "\n",
    "\n",
    "reco_list = []\n",
    "Recommend_Movies(param1)\n",
    "\n",
    "    \n",
    "recolistdf = pd.DataFrame(reco_list)\n",
    "recolistdf = recolistdf.rename(columns={0: 'title'})\n",
    "\n",
    "\n",
    "recolistdf = recolistdf.merge(prep_df[['title','cast','director','imdb_votes','keywords','genre','imdb_score','popularity_score','description','tags']], on  = \"title\",how=\"left\")\n",
    "recolistdf = recolistdf.drop_duplicates(subset = ['title'],keep = 'last').reset_index(drop = True)\n",
    "\n",
    "recolistdf[['imdb_score']] = recolistdf[['imdb_score']].fillna(value=0)\n",
    "recolistdf[['imdb_votes']] = recolistdf[['imdb_votes']].fillna(value=0)\n",
    "recolistdf[['popularity_score']] = recolistdf[['popularity_score']].fillna(value=0)\n",
    "\n",
    "\n",
    "recolistdf['imdb_score'] = recolistdf['imdb_score'].astype(float)\n",
    "recolistdf['popularity_score'] = recolistdf['popularity_score'].astype(float)\n",
    "recolistdf['composite_score'] = recolistdf['imdb_score']*0.6+recolistdf['popularity_score']*0.4\n",
    "\n",
    "recolistdf = recolistdf.sort_values(by=['composite_score','title'], ascending=False)\n",
    "\n",
    "if len(param2) > 0:\n",
    "    recolistdf = recolistdf.loc[recolistdf['genre'].str.contains(param2.lower())]\n",
    "if len(param3) > 0:\n",
    "    recolistdf = recolistdf.loc[recolistdf['cast'].str.lower().str.contains(param3.lower())]\n",
    "\n",
    "\n",
    "\n",
    "    \n",
    "print(\"Here are your recommended titles based on your search criteria\\n\")\n",
    "netflix_titles = pd.read_csv(\"10k_titles.csv\")\n",
    "for i, movie in enumerate(recolistdf['title']):\n",
    "    print(f\"{i+1}. {movie.lower().title()}\")\n",
    "    if netflix_titles.loc[netflix_titles['title'] == movie.lower().title()]['overview'].empty:\n",
    "        print(\"Title overview unavailable at this time.\")\n",
    "    else:\n",
    "        print(re.sub(\"[^A-Za-z ]\",\"\",str(netflix_titles.loc[netflix_titles['title'] == movie.lower().title()]['overview'].values)))\n",
    "    print('\\n')\n",
    "\n",
    "recolistdf"
   ]
  },
  {
   "cell_type": "code",
   "execution_count": null,
   "metadata": {},
   "outputs": [],
   "source": []
  }
 ],
 "metadata": {
  "kernelspec": {
   "display_name": "Python 3 (ipykernel)",
   "language": "python",
   "name": "python3"
  },
  "language_info": {
   "codemirror_mode": {
    "name": "ipython",
    "version": 3
   },
   "file_extension": ".py",
   "mimetype": "text/x-python",
   "name": "python",
   "nbconvert_exporter": "python",
   "pygments_lexer": "ipython3",
   "version": "3.10.4"
  },
  "vscode": {
   "interpreter": {
    "hash": "31f2aee4e71d21fbe5cf8b01ff0e069b9275f58929596ceb00d14d90e3e16cd6"
   }
  }
 },
 "nbformat": 4,
 "nbformat_minor": 4
}
